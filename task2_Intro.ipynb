{
  "metadata": {
    "kernelspec": {
      "name": "python",
      "display_name": "Python (Pyodide)",
      "language": "python"
    },
    "language_info": {
      "codemirror_mode": {
        "name": "python",
        "version": 3
      },
      "file_extension": ".py",
      "mimetype": "text/x-python",
      "name": "python",
      "nbconvert_exporter": "python",
      "pygments_lexer": "ipython3",
      "version": "3.8"
    }
  },
  "nbformat_minor": 5,
  "nbformat": 4,
  "cells": [
    {
      "cell_type": "code",
      "source": "monthly_demand={'jan': 850, 'feb': 1100, 'mar': 700, 'apr': 900, 'may': 1500, 'jun': 500, 'jul': 550, 'aug': 2000, 'sep': 110, 'oct': 100, 'nov': 85, 'dec': 1150}\nmonthly_demand",
      "metadata": {
        "trusted": true
      },
      "execution_count": 20,
      "outputs": [
        {
          "execution_count": 20,
          "output_type": "execute_result",
          "data": {
            "text/plain": "{'jan': 850,\n 'feb': 1100,\n 'mar': 700,\n 'apr': 900,\n 'may': 1500,\n 'jun': 500,\n 'jul': 550,\n 'aug': 2000,\n 'sep': 110,\n 'oct': 100,\n 'nov': 85,\n 'dec': 1150}"
          },
          "metadata": {}
        }
      ],
      "id": "c2e307d6-0f72-45ad-a6b6-a856eceaa71b"
    },
    {
      "cell_type": "code",
      "source": "Month=[]\nCap=[]\nDem=[]\nExtra_Qty=[]\nRem_Cap=[]\nadj=[0]*12",
      "metadata": {
        "trusted": true
      },
      "execution_count": 21,
      "outputs": [],
      "id": "7c815287-a4d4-47f0-9720-305009841a98"
    },
    {
      "cell_type": "code",
      "source": "def Calculate_monthly_details(capacity,demand):\n    d=demand\n    key=list(d.keys())\n    valu=list(d.values())\n    cap=capacity\n    \n    for i in range(len(key)):\n        Month.append(key[i])\n        Cap.append(cap)\n        Dem.append(valu[i])\n        \n        if valu[i]>cap :\n            Extra_Qty.append(valu[i]-cap)\n            Rem_Cap.append(0)\n            \n        elif valu[i]<cap :\n            Extra_Qty.append(0)\n            Rem_Cap.append(cap-valu[i])\n            \n        else :\n            Extra_Qty.append(0)\n            Rem_Cap.append(0)\n            \n          \n            \n    import pandas as pd\n    Table = {'Month':Month,'Dem':Dem,'Cap':Cap,'Extra_Qty':Extra_Qty,'Rem_Cap':Rem_Cap}\n    df=pd.DataFrame(Table,index=range(1,13))\n    return df",
      "metadata": {
        "trusted": true
      },
      "execution_count": 22,
      "outputs": [],
      "id": "82418a20-8b0d-40ed-a7ed-42c6adcd4b51"
    },
    {
      "cell_type": "code",
      "source": "Calculate_monthly_details(1000,monthly_demand)",
      "metadata": {
        "trusted": true
      },
      "execution_count": 23,
      "outputs": [
        {
          "execution_count": 23,
          "output_type": "execute_result",
          "data": {
            "text/plain": "   Month   Dem   Cap  Extra_Qty  Rem_Cap\n1    jan   850  1000          0      150\n2    feb  1100  1000        100        0\n3    mar   700  1000          0      300\n4    apr   900  1000          0      100\n5    may  1500  1000        500        0\n6    jun   500  1000          0      500\n7    jul   550  1000          0      450\n8    aug  2000  1000       1000        0\n9    sep   110  1000          0      890\n10   oct   100  1000          0      900\n11   nov    85  1000          0      915\n12   dec  1150  1000        150        0",
            "text/html": "<div>\n<style scoped>\n    .dataframe tbody tr th:only-of-type {\n        vertical-align: middle;\n    }\n\n    .dataframe tbody tr th {\n        vertical-align: top;\n    }\n\n    .dataframe thead th {\n        text-align: right;\n    }\n</style>\n<table border=\"1\" class=\"dataframe\">\n  <thead>\n    <tr style=\"text-align: right;\">\n      <th></th>\n      <th>Month</th>\n      <th>Dem</th>\n      <th>Cap</th>\n      <th>Extra_Qty</th>\n      <th>Rem_Cap</th>\n    </tr>\n  </thead>\n  <tbody>\n    <tr>\n      <th>1</th>\n      <td>jan</td>\n      <td>850</td>\n      <td>1000</td>\n      <td>0</td>\n      <td>150</td>\n    </tr>\n    <tr>\n      <th>2</th>\n      <td>feb</td>\n      <td>1100</td>\n      <td>1000</td>\n      <td>100</td>\n      <td>0</td>\n    </tr>\n    <tr>\n      <th>3</th>\n      <td>mar</td>\n      <td>700</td>\n      <td>1000</td>\n      <td>0</td>\n      <td>300</td>\n    </tr>\n    <tr>\n      <th>4</th>\n      <td>apr</td>\n      <td>900</td>\n      <td>1000</td>\n      <td>0</td>\n      <td>100</td>\n    </tr>\n    <tr>\n      <th>5</th>\n      <td>may</td>\n      <td>1500</td>\n      <td>1000</td>\n      <td>500</td>\n      <td>0</td>\n    </tr>\n    <tr>\n      <th>6</th>\n      <td>jun</td>\n      <td>500</td>\n      <td>1000</td>\n      <td>0</td>\n      <td>500</td>\n    </tr>\n    <tr>\n      <th>7</th>\n      <td>jul</td>\n      <td>550</td>\n      <td>1000</td>\n      <td>0</td>\n      <td>450</td>\n    </tr>\n    <tr>\n      <th>8</th>\n      <td>aug</td>\n      <td>2000</td>\n      <td>1000</td>\n      <td>1000</td>\n      <td>0</td>\n    </tr>\n    <tr>\n      <th>9</th>\n      <td>sep</td>\n      <td>110</td>\n      <td>1000</td>\n      <td>0</td>\n      <td>890</td>\n    </tr>\n    <tr>\n      <th>10</th>\n      <td>oct</td>\n      <td>100</td>\n      <td>1000</td>\n      <td>0</td>\n      <td>900</td>\n    </tr>\n    <tr>\n      <th>11</th>\n      <td>nov</td>\n      <td>85</td>\n      <td>1000</td>\n      <td>0</td>\n      <td>915</td>\n    </tr>\n    <tr>\n      <th>12</th>\n      <td>dec</td>\n      <td>1150</td>\n      <td>1000</td>\n      <td>150</td>\n      <td>0</td>\n    </tr>\n  </tbody>\n</table>\n</div>"
          },
          "metadata": {}
        }
      ],
      "id": "0582e2f2-c7bb-4463-bd1e-dedb021ed16e"
    },
    {
      "cell_type": "code",
      "source": "def Calculate_adjusted_demand(capacity): \n    cap=capacity\n    a=0\n    for x in range(0,12):\n        if x<2 or x>10 :\n            adj[x]= Dem[x]\n        if(Extra_Qty[x]>0):\n            adj[x]=cap\n            if(Rem_Cap[x-2]>0):\n                if(Extra_Qty[x] > Rem_Cap[x-2]) :\n                    a=Extra_Qty[x]-Rem_Cap[x-2]\n                    adj[x-2] = Rem_Cap[x-2]+Dem[x-2]\n                else :\n                    a=Extra_Qty[x]-Rem_Cap[x-2]\n                    adj[x-2]= Dem[x-2] +Extra_Qty[x]\n               \n                if(a>=0):\n                    if(a > Rem_Cap[x-1]) :\n                        adj[x-1] = Rem_Cap[x-1]+Dem[x-1]\n                        a= a - Rem_Cap[x-1]\n                        adj[x] = Cap[x] + a\n                    else :\n                        adj[x-1]= Dem[x-1] + a\n                   \n                   \n            else:\n                if Rem_Cap[x-1]>0:\n                    if(Extra_Qty[x] > Rem_Cap[x-1]) :\n                        adj[x-1] = Rem_Cap[x-1]+Dem[x-1]\n                    else :\n                        adj[x-1]= Dem[x-1] + Extra_Qty[x]\n                else:\n                    adj[x]=Dem[x]\n        else:\n            adj[x]=Dem[x]          \n    \n    for i in range(0,12):\n        if adj[i]>Cap[i] :\n            Extra_Qty[i]=(adj[i]-Cap[i])\n            Rem_Cap[i]=0\n           \n        elif adj[i]<Cap[i] :\n            Extra_Qty[i]=0\n            Rem_Cap[i]=(Cap[i]-adj[i])\n           \n        else :\n            Extra_Qty[i]=0\n            Rem_Cap[i]=0\n           \n    import pandas as pd\n    Table = {'Month':Month,'Dem':Dem,'Cap':Cap,'Adj_Dem':adj,'Extra_Qty':Extra_Qty,'Rem_Cap':Rem_Cap}\n    df=pd.DataFrame(Table,index=range(1,13))\n    return df",
      "metadata": {
        "trusted": true
      },
      "execution_count": 24,
      "outputs": [],
      "id": "69dacb8d-6cc5-414b-b44d-18b3aa19c22c"
    },
    {
      "cell_type": "code",
      "source": "Calculate_adjusted_demand(1000)",
      "metadata": {
        "trusted": true
      },
      "execution_count": 25,
      "outputs": [
        {
          "execution_count": 25,
          "output_type": "execute_result",
          "data": {
            "text/plain": "   Month   Dem   Cap  Adj_Dem  Extra_Qty  Rem_Cap\n1    jan   850  1000      950          0       50\n2    feb  1100  1000     1000          0        0\n3    mar   700  1000     1000          0        0\n4    apr   900  1000     1000          0        0\n5    may  1500  1000     1100        100        0\n6    jun   500  1000     1000          0        0\n7    jul   550  1000     1000          0        0\n8    aug  2000  1000     1050         50        0\n9    sep   110  1000      110          0      890\n10   oct   100  1000      250          0      750\n11   nov    85  1000       85          0      915\n12   dec  1150  1000     1000          0        0",
            "text/html": "<div>\n<style scoped>\n    .dataframe tbody tr th:only-of-type {\n        vertical-align: middle;\n    }\n\n    .dataframe tbody tr th {\n        vertical-align: top;\n    }\n\n    .dataframe thead th {\n        text-align: right;\n    }\n</style>\n<table border=\"1\" class=\"dataframe\">\n  <thead>\n    <tr style=\"text-align: right;\">\n      <th></th>\n      <th>Month</th>\n      <th>Dem</th>\n      <th>Cap</th>\n      <th>Adj_Dem</th>\n      <th>Extra_Qty</th>\n      <th>Rem_Cap</th>\n    </tr>\n  </thead>\n  <tbody>\n    <tr>\n      <th>1</th>\n      <td>jan</td>\n      <td>850</td>\n      <td>1000</td>\n      <td>950</td>\n      <td>0</td>\n      <td>50</td>\n    </tr>\n    <tr>\n      <th>2</th>\n      <td>feb</td>\n      <td>1100</td>\n      <td>1000</td>\n      <td>1000</td>\n      <td>0</td>\n      <td>0</td>\n    </tr>\n    <tr>\n      <th>3</th>\n      <td>mar</td>\n      <td>700</td>\n      <td>1000</td>\n      <td>1000</td>\n      <td>0</td>\n      <td>0</td>\n    </tr>\n    <tr>\n      <th>4</th>\n      <td>apr</td>\n      <td>900</td>\n      <td>1000</td>\n      <td>1000</td>\n      <td>0</td>\n      <td>0</td>\n    </tr>\n    <tr>\n      <th>5</th>\n      <td>may</td>\n      <td>1500</td>\n      <td>1000</td>\n      <td>1100</td>\n      <td>100</td>\n      <td>0</td>\n    </tr>\n    <tr>\n      <th>6</th>\n      <td>jun</td>\n      <td>500</td>\n      <td>1000</td>\n      <td>1000</td>\n      <td>0</td>\n      <td>0</td>\n    </tr>\n    <tr>\n      <th>7</th>\n      <td>jul</td>\n      <td>550</td>\n      <td>1000</td>\n      <td>1000</td>\n      <td>0</td>\n      <td>0</td>\n    </tr>\n    <tr>\n      <th>8</th>\n      <td>aug</td>\n      <td>2000</td>\n      <td>1000</td>\n      <td>1050</td>\n      <td>50</td>\n      <td>0</td>\n    </tr>\n    <tr>\n      <th>9</th>\n      <td>sep</td>\n      <td>110</td>\n      <td>1000</td>\n      <td>110</td>\n      <td>0</td>\n      <td>890</td>\n    </tr>\n    <tr>\n      <th>10</th>\n      <td>oct</td>\n      <td>100</td>\n      <td>1000</td>\n      <td>250</td>\n      <td>0</td>\n      <td>750</td>\n    </tr>\n    <tr>\n      <th>11</th>\n      <td>nov</td>\n      <td>85</td>\n      <td>1000</td>\n      <td>85</td>\n      <td>0</td>\n      <td>915</td>\n    </tr>\n    <tr>\n      <th>12</th>\n      <td>dec</td>\n      <td>1150</td>\n      <td>1000</td>\n      <td>1000</td>\n      <td>0</td>\n      <td>0</td>\n    </tr>\n  </tbody>\n</table>\n</div>"
          },
          "metadata": {}
        }
      ],
      "id": "47161c0f-34b9-46a6-92ca-296cb2556253"
    },
    {
      "cell_type": "code",
      "source": "",
      "metadata": {},
      "execution_count": null,
      "outputs": [],
      "id": "4cf03990-e8bd-4c77-9ce8-f200983e4161"
    },
    {
      "cell_type": "code",
      "source": "",
      "metadata": {},
      "execution_count": null,
      "outputs": [],
      "id": "753a6965-1784-4ab6-9a60-f1f44590c04c"
    }
  ]
}